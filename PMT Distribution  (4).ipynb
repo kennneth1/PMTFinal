{
 "cells": [
  {
   "cell_type": "markdown",
   "metadata": {},
   "source": [
    "# The data used to perform this analysis:\n",
    "### 3 Folders containing 50 CSV files with waveform data "
   ]
  },
  {
   "cell_type": "code",
   "execution_count": 1,
   "metadata": {},
   "outputs": [],
   "source": [
    "import pandas as pd\n",
    "import matplotlib.pyplot as plt\n",
    "import os\n",
    "import glob\n",
    "from statistics import mean\n",
    "import math\n",
    "from math import log\n",
    "import numpy as np\n",
    "import matplotlib as mpl\n",
    "mpl.rcParams['figure.figsize'] = (20,10)"
   ]
  },
  {
   "cell_type": "code",
   "execution_count": 2,
   "metadata": {},
   "outputs": [
    {
     "name": "stdout",
     "output_type": "stream",
     "text": [
      "\n"
     ]
    },
    {
     "ename": "NameError",
     "evalue": "name 'max1' is not defined",
     "output_type": "error",
     "traceback": [
      "\u001b[0;31m---------------------------------------------------------------------------\u001b[0m",
      "\u001b[0;31mNameError\u001b[0m                                 Traceback (most recent call last)",
      "\u001b[0;32m<ipython-input-2-c618bcbe5216>\u001b[0m in \u001b[0;36m<module>\u001b[0;34m\u001b[0m\n\u001b[1;32m     69\u001b[0m \u001b[0mthresh3\u001b[0m \u001b[0;34m=\u001b[0m \u001b[0;34m[\u001b[0m\u001b[0;34m(\u001b[0m\u001b[0mfloat\u001b[0m\u001b[0;34m(\u001b[0m\u001b[0mx\u001b[0m\u001b[0;34m)\u001b[0m\u001b[0;34m*\u001b[0m\u001b[0;34m-\u001b[0m\u001b[0;36m1\u001b[0m\u001b[0;34m)\u001b[0m \u001b[0;32mfor\u001b[0m \u001b[0mx\u001b[0m \u001b[0;32min\u001b[0m \u001b[0mthresh3\u001b[0m\u001b[0;34m]\u001b[0m\u001b[0;34m\u001b[0m\u001b[0m\n\u001b[1;32m     70\u001b[0m \u001b[0;34m\u001b[0m\u001b[0m\n\u001b[0;32m---> 71\u001b[0;31m \u001b[0mmax1\u001b[0m \u001b[0;34m=\u001b[0m \u001b[0;34m[\u001b[0m\u001b[0;34m(\u001b[0m\u001b[0mfloat\u001b[0m\u001b[0;34m(\u001b[0m\u001b[0mx\u001b[0m\u001b[0;34m)\u001b[0m\u001b[0;34m*\u001b[0m\u001b[0;34m-\u001b[0m\u001b[0;36m1\u001b[0m\u001b[0;34m)\u001b[0m \u001b[0;32mfor\u001b[0m \u001b[0mx\u001b[0m \u001b[0;32min\u001b[0m \u001b[0mmax1\u001b[0m\u001b[0;34m]\u001b[0m\u001b[0;34m\u001b[0m\u001b[0m\n\u001b[0m\u001b[1;32m     72\u001b[0m \u001b[0mmax2\u001b[0m \u001b[0;34m=\u001b[0m \u001b[0;34m[\u001b[0m\u001b[0;34m(\u001b[0m\u001b[0mfloat\u001b[0m\u001b[0;34m(\u001b[0m\u001b[0mx\u001b[0m\u001b[0;34m)\u001b[0m\u001b[0;34m*\u001b[0m\u001b[0;34m-\u001b[0m\u001b[0;36m1\u001b[0m\u001b[0;34m)\u001b[0m \u001b[0;32mfor\u001b[0m \u001b[0mx\u001b[0m \u001b[0;32min\u001b[0m \u001b[0mmax2\u001b[0m\u001b[0;34m]\u001b[0m\u001b[0;34m\u001b[0m\u001b[0m\n\u001b[1;32m     73\u001b[0m \u001b[0mmax3\u001b[0m \u001b[0;34m=\u001b[0m \u001b[0;34m[\u001b[0m\u001b[0;34m(\u001b[0m\u001b[0mfloat\u001b[0m\u001b[0;34m(\u001b[0m\u001b[0mx\u001b[0m\u001b[0;34m)\u001b[0m\u001b[0;34m*\u001b[0m\u001b[0;34m-\u001b[0m\u001b[0;36m1\u001b[0m\u001b[0;34m)\u001b[0m \u001b[0;32mfor\u001b[0m \u001b[0mx\u001b[0m \u001b[0;32min\u001b[0m \u001b[0mmax3\u001b[0m\u001b[0;34m]\u001b[0m\u001b[0;34m\u001b[0m\u001b[0m\n",
      "\u001b[0;31mNameError\u001b[0m: name 'max1' is not defined"
     ]
    }
   ],
   "source": [
    "path1 = os.path.expanduser(os.path.expanduser(\"~/Desktop/1000V\"))\n",
    "path2 = os.path.expanduser(os.path.expanduser(\"~/Desktop/1200V\"))\n",
    "path3 = os.path.expanduser(os.path.expanduser(\"~/Desktop/1300V\"))\n",
    "\n",
    "files1 = []\n",
    "files2 = []\n",
    "files3 = []\n",
    "\n",
    "\n",
    "for r, d, f in os.walk(path1):\n",
    "    for file in f:\n",
    "        if '.CSV' in file:\n",
    "            files1.append(os.path.join(r, file))\n",
    "            \n",
    "for r, d, f in os.walk(path2):\n",
    "    for file in f:\n",
    "        if '.CSV' in file:\n",
    "            files2.append(os.path.join(r, file))\n",
    "            \n",
    "for r, d, f in os.walk(path3):\n",
    "    for file in f:\n",
    "        if '.CSV' in file:\n",
    "            files3.append(os.path.join(r, file))\n",
    "            \n",
    "v1 = []\n",
    "v2 = []\n",
    "v3 = []\n",
    "thresh1 = []\n",
    "thresh2 = []\n",
    "thresh3 = []\n",
    "acc = []\n",
    "\n",
    "###~170,000 pulses detected per trial # MAKE SURE TO HAVE 3 FOLDERS: 1000V, 1200V, etc... on your desktop\n",
    "for file in files1:\n",
    "    df = pd.read_csv(file)\n",
    "    df = df['4000'].loc[15:]\n",
    "      \n",
    "    filtered = df[df.astype(float) <= -.004]  #Applying a thresh hold of -5 mV\n",
    "    voltages = df.values.tolist() #All the data\n",
    "    v1.extend(voltages) \n",
    "    thresh1.extend(filtered)\n",
    "    \n",
    "for file in files2:\n",
    "    df = pd.read_csv(file)\n",
    "    df = df['4000'].loc[15:]\n",
    "    \n",
    "    filtered = df[df.astype(float) <= -.004]  #Applying a thresh hold of -5 mV\n",
    "    voltages = df.values.tolist() #All the data\n",
    "    v2.extend(voltages) \n",
    "    thresh2.extend(filtered)\n",
    "    \n",
    "for file in files3:\n",
    "    try:\n",
    "        df = pd.read_csv(file)\n",
    "        df = df['4000'].loc[15:]\n",
    "        filtered = df[df.astype(float) <= -.004]  #Applying a thresh hold of -5 mV\n",
    "        voltages = df.values.tolist() #All the data\n",
    "        v3.extend(voltages) \n",
    "        thresh3.extend(filtered)\n",
    "    except Exception:\n",
    "        print(\"\")\n",
    "\n",
    "v1 = [(float(x)*-1) for x in v1]\n",
    "v2 = [(float(x)*-1) for x in v2]\n",
    "v3 = [(float(x)*-1) for x in v3]\n",
    "\n",
    "thresh1 = [(float(x)*-1) for x in thresh1]\n",
    "thresh2 = [(float(x)*-1) for x in thresh2]\n",
    "thresh3 = [(float(x)*-1) for x in thresh3]\n",
    "\n",
    "max1 = [(float(x)*-1) for x in max1]\n",
    "max2 = [(float(x)*-1) for x in max2]\n",
    "max3 = [(float(x)*-1) for x in max3]\n",
    "\n",
    "acc = [[(float(x)*-1) for x in acc]]\n"
   ]
  },
  {
   "cell_type": "code",
   "execution_count": null,
   "metadata": {},
   "outputs": [],
   "source": [
    "noise1avg = str((sum(v1)/len(v1))*1000)\n",
    "noise2avg = str((sum(v2)/len(v2))*1000)\n",
    "noise3avg = str((sum(v3)/len(v3))*1000)\n",
    "signal1 = str((sum(thresh1)/len(thresh1))*1000)\n",
    "signal2 = str((sum(thresh2)/len(thresh2))*1000)\n",
    "signal3 = str((sum(thresh3)/len(thresh3))*1000)\n",
    "print(\"At 1000V: Average of all noise: \" + noise1avg + \"mV, Average of possible signals: \" + signal1 + \"mV\")\n",
    "print(\"At 1200V: Average of all noise: \" + noise2avg + \"mV, Average of possible signals: \" + signal2 + \"mV\") \n",
    "print(\"At 1300V: Average of all noise: \" + noise3avg + \"mV, Average of possible signals: \" + signal3 + \"mV\")"
   ]
  },
  {
   "cell_type": "code",
   "execution_count": null,
   "metadata": {},
   "outputs": [],
   "source": [
    "fig = plt.figure(3, (20,5))\n",
    "\n",
    "fig.suptitle('Histograms for noisy signal data at varying input Voltages', fontsize = 15)\n",
    "plt.subplot(1,3,1)\n",
    "plt.hist(v1, bins = 40)\n",
    "plt.title(\"Pulses at 1000V, Co-60\")\n",
    "plt.xlabel(\"Output signal (mV)\")\n",
    "plt.ylabel(\"Counts\")\n",
    "\n",
    "plt.subplot(1,3,2)\n",
    "plt.hist(v2, bins = 40)\n",
    "plt.title(\"Pulses at 1200V, Co-60\")\n",
    "plt.xlabel(\"Output signal (mV)\")\n",
    "plt.ylabel(\"Counts\")\n",
    "\n",
    "plt.subplot(1,3,3)\n",
    "plt.hist(v3, bins = 40)\n",
    "plt.title(\"Pulses at 1300V, Co-60\")\n",
    "plt.xlabel(\"Output signal (mV)\")\n",
    "plt.ylabel(\"Counts\")\n",
    "\n",
    "plt.show"
   ]
  },
  {
   "cell_type": "code",
   "execution_count": null,
   "metadata": {},
   "outputs": [],
   "source": [
    "fig = plt.figure(3, (20,5))\n",
    "fig.suptitle('Histograms for possible pulses at varying input Voltages (with min threshhold of -5mV)', fontsize = 15)\n",
    "plt.subplot(1,3,1)\n",
    "plt.hist(thresh1, histtype = 'stepfilled', bins = 50, color='b')\n",
    "plt.title(\"Pulses at 1000V, Co-60\")\n",
    "plt.xlabel(\"Output signal (mV)\")\n",
    "plt.ylabel(\"Counts\")\n",
    "\n",
    "plt.subplot(1,3,2)\n",
    "plt.hist(thresh2, histtype = 'stepfilled', bins = 200, color='g')\n",
    "plt.title(\"Pulses at 1200V, Co-60\")\n",
    "plt.xlabel(\"Output signal (mV)\")\n",
    "plt.ylabel(\"Counts\")\n",
    "\n",
    "plt.subplot(1,3,3)\n",
    "plt.hist(thresh3, histtype = 'stepfilled', bins = 150, color='r')\n",
    "plt.title(\"Pulses at 1300V, Co-60\")\n",
    "plt.xlabel(\"Output signal (mV)\")\n",
    "plt.ylabel(\"Counts\")\n",
    "\n",
    "plt.show"
   ]
  },
  {
   "cell_type": "markdown",
   "metadata": {
    "scrolled": true
   },
   "source": [
    "# Observations\n",
    "### Increasing the voltage increases the number of signals exceeding a threshhold of 5 mV, and the average pulse size\n",
    "### At 1000V: Average of all noise: 0.350 mV, Average of pulse sizes: 6.14 mV, pulses detected: 310\n",
    "### At 1200V: Average of all noise: 0.401 mV, Average of pulse sizes: 10.3 mV, pulses detected: 2774\n",
    "### At 1300V: Average of all noise: 0.431 mV, Average of pulse sizes: 13.2 mV, pulses detected: 1024\n",
    "### ."
   ]
  },
  {
   "cell_type": "code",
   "execution_count": 4,
   "metadata": {},
   "outputs": [],
   "source": [
    "path1 = os.path.expanduser(os.path.expanduser(\"~/Desktop/LOG0011\"))\n",
    "files4 = []\n",
    "v4 = []\n",
    "thresh4 = []\n",
    "max4 = []\n",
    "for r, d, f in os.walk(path1):\n",
    "    for file in f:\n",
    "        if '.CSV' in file:\n",
    "            files4.append(os.path.join(r, file))\n",
    "\n",
    "\n",
    "for file in files4:\n",
    "    df = pd.read_csv(file)\n",
    "    df = df['Memory Length'].loc[15:]\n",
    "    #voltages = df.values.tolist() #All the data\n",
    "#        voltages = df.values.tolist() #All the data\n",
    "\n",
    "    df = df.astype(float)*(-2/5)\n",
    "    filtered = df[df.astype(float) >= 4]  #Applying a thresh hold of -5 mV\n",
    "    thresh4.extend(filtered)\n",
    "    \n",
    "thresh4 = [(float(x)) for x in thresh4]"
   ]
  },
  {
   "cell_type": "code",
   "execution_count": 5,
   "metadata": {},
   "outputs": [
    {
     "data": {
      "text/plain": [
       "<function matplotlib.pyplot.show(*args, **kw)>"
      ]
     },
     "execution_count": 5,
     "metadata": {},
     "output_type": "execute_result"
    },
    {
     "data": {
      "image/png": "[encoded data removed]",
      "text/plain": [
       "<Figure size 1440x360 with 1 Axes>"
      ]
     },
     "metadata": {
      "needs_background": "light"
     },
     "output_type": "display_data"
    }
   ],
   "source": [
    "fig = plt.figure(figsize=(20,5))\n",
    "fig.suptitle('Histograms for pulses with 2 PMTs at 1200V', fontsize = 15)\n",
    "plt.hist(thresh4, histtype = 'stepfilled', bins=100, color='b')\n",
    "plt.title(\"Co-60\")\n",
    "plt.xlabel(\"Output signal (mV)\")\n",
    "plt.ylabel(\"Counts\")\n",
    "\n",
    "\n",
    "\n",
    "plt.show"
   ]
  },
  {
   "cell_type": "code",
   "execution_count": null,
   "metadata": {},
   "outputs": [],
   "source": []
  },
  {
   "cell_type": "code",
   "execution_count": 7,
   "metadata": {},
   "outputs": [],
   "source": [
    "# (Beta Sr - (90)) @ 2:57 PM\n",
    "\n",
    "\n",
    "#Objective: Determine correlation between voltage input and signal output. \n",
    "\n",
    "    \n",
    "# -1300 V = -10.8 mV  \n",
    "# -1200 V = -9.29 mV\n",
    "# -1000 V = -8.39 mV\n",
    "# -900 V = -3.03 mV\n",
    "\n",
    "\n",
    "# Beta Sr Cont. @ 3:40\n",
    "\n",
    "### Could not find any peaks with the terminator on past this point, so we removed it for voltages past -900 V\n",
    "# -800 V = -3.51 mV\n",
    "# -700 V = -1.03 mV\n",
    "# -600 V = -.72 mV\n",
    "# -500 V = -.16 mV (Upper limit)\n",
    "\n",
    "### Observation: the lower the magnitude of the input voltage, the lesser the magnitude of output signal \n",
    "### Observation: # Attempted to use Jupyter notebook to visualize a distribution of wave signals, but not so effective with minimal \n",
    "# hand-collected data"
   ]
  },
  {
   "cell_type": "code",
   "execution_count": 8,
   "metadata": {},
   "outputs": [],
   "source": [
    "# Cobalt: Co-60 @ 4:30 PM\n",
    "\n",
    "# Extracting 50 CSV Files for Cobalt's waveforms at -1000 V and -1200 V, respectively\n",
    "# Objective: Iterate through each CSV file, determine absolute maximum of each waveform\n",
    "# Objective: Create a distribuion of these maximums, find correlations between Voltage / material / output voltage\n",
    "# Completed data pull @ 4:39 PM"
   ]
  }
 ],
 "metadata": {
  "kernelspec": {
   "display_name": "Python 3",
   "language": "python",
   "name": "python3"
  },
  "language_info": {
   "codemirror_mode": {
    "name": "ipython",
    "version": 3
   },
   "file_extension": ".py",
   "mimetype": "text/x-python",
   "name": "python",
   "nbconvert_exporter": "python",
   "pygments_lexer": "ipython3",
   "version": "3.7.0"
  }
 },
 "nbformat": 4,
 "nbformat_minor": 2
}
